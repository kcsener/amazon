{
 "cells": [
  {
   "cell_type": "code",
   "execution_count": 1,
   "metadata": {},
   "outputs": [],
   "source": [
    "import pandas as pd\n",
    "import numpy as np\n",
    "import requests\n",
    "from bs4 import BeautifulSoup as BS"
   ]
  },
  {
   "cell_type": "code",
   "execution_count": 2,
   "metadata": {},
   "outputs": [],
   "source": [
    "headers={'User-Agent':'Mozilla/5.0 (Windows NT 10.0; Win64; x64) AppleWebKit/537.36 (KHTML, like Gecko) Chrome/79.0.3945.130 Safari/537.36'}"
   ]
  },
  {
   "cell_type": "code",
   "execution_count": 3,
   "metadata": {},
   "outputs": [],
   "source": [
    "# CASE-1\n",
    "# bu bölümde ana arama ekranından başladık, \n",
    "# arama sonuç sayfasındaki her linkin içine girdik, \n",
    "# bu linklerin içinde 'buy options' linki olanları seçtik.\n",
    "\n",
    "# yapılacaklar:\n",
    "# 1- buy options linkine girmeden ürün genel bilgilerini alıcaz\n",
    "# 2- buy options linkine girerek satıcı ve fiyat gibi bilgileri alıcaz ve frame tamamlanacak."
   ]
  },
  {
   "cell_type": "code",
   "execution_count": 4,
   "metadata": {},
   "outputs": [],
   "source": [
    "url = 'https://www.amazon.com/s?k=nintendo+switch+console&ref=nb_sb_noss_1'"
   ]
  },
  {
   "cell_type": "code",
   "execution_count": 5,
   "metadata": {},
   "outputs": [],
   "source": [
    "response=requests.get(url, headers=headers)\n",
    "soup=BS(response.content, features=\"lxml\")"
   ]
  },
  {
   "cell_type": "code",
   "execution_count": 6,
   "metadata": {},
   "outputs": [],
   "source": [
    "a = soup.select('a.a-link-normal.a-text-normal')"
   ]
  },
  {
   "cell_type": "code",
   "execution_count": 7,
   "metadata": {},
   "outputs": [
    {
     "name": "stdout",
     "output_type": "stream",
     "text": [
      "https://www.amazon.com/gp/offer-listing/B07VGRJDFY/ref=dp_olp_all_mbc?ie=UTF8&condition=all\n",
      "https://www.amazon.com/gp/offer-listing/B07YZQSC5Y/ref=dp_olp_new_mbc?ie=UTF8&condition=new\n",
      "https://www.amazon.com/gp/offer-listing/B07VGRJDFY/ref=dp_olp_all_mbc?ie=UTF8&condition=all\n",
      "https://www.amazon.com/gp/offer-listing/B07YZQSC5Y/ref=dp_olp_new_mbc?ie=UTF8&condition=new\n",
      "https://www.amazon.com/gp/offer-listing/B07V3G4SNR/ref=dp_olp_all_mbc?ie=UTF8&condition=all\n",
      "https://www.amazon.com/gp/offer-listing/B07VJRZ62R/ref=dp_olp_all_mbc?ie=UTF8&condition=all\n"
     ]
    }
   ],
   "source": [
    "for i in a:\n",
    "    url = 'https://www.amazon.com' + i['href']\n",
    "    try:\n",
    "        response=requests.get(url, headers=headers)\n",
    "        soup=BS(response.content, features=\"lxml\")\n",
    "        b = soup.select('a.a-button-text')\n",
    "        for i in b:\n",
    "            url = 'https://www.amazon.com' + i['href']\n",
    "            try:\n",
    "                response=requests.get(url, headers=headers)\n",
    "                soup=BS(response.content, features=\"lxml\")\n",
    "                if 'offer-listing' in url:\n",
    "                    print(url)\n",
    "            except:\n",
    "                pass\n",
    "    except:\n",
    "        pass"
   ]
  },
  {
   "cell_type": "code",
   "execution_count": null,
   "metadata": {},
   "outputs": [],
   "source": []
  }
 ],
 "metadata": {
  "kernelspec": {
   "display_name": "Python 3",
   "language": "python",
   "name": "python3"
  },
  "language_info": {
   "codemirror_mode": {
    "name": "ipython",
    "version": 3
   },
   "file_extension": ".py",
   "mimetype": "text/x-python",
   "name": "python",
   "nbconvert_exporter": "python",
   "pygments_lexer": "ipython3",
   "version": "3.6.8"
  }
 },
 "nbformat": 4,
 "nbformat_minor": 2
}
